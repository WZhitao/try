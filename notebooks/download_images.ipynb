{
 "cells": [
  {
   "cell_type": "code",
   "execution_count": 1,
   "metadata": {},
   "outputs": [],
   "source": [
    "# !pip install -U geemap\n",
    "# !pip install geedim\n",
    "# !pip install mss"
   ]
  },
  {
   "cell_type": "code",
   "execution_count": 2,
   "metadata": {},
   "outputs": [],
   "source": [
    "import os\n",
    "import ee\n",
    "import geemap\n",
    "\n",
    "import csv\n",
    "\n",
    "ee.Initialize()"
   ]
  },
  {
   "cell_type": "code",
   "execution_count": 3,
   "metadata": {},
   "outputs": [],
   "source": [
    "INPUT_FILE = \"all_known_crematoria_raj_lat_long_formatted.csv\"\n",
    "csv_reader = csv.reader(open(INPUT_FILE))\n",
    "\n",
    "OUT_DIR = os.path.expanduser('.')\n",
    "RADIUS = 500\n",
    "\n",
    "VIS_PARAMS = {\n",
    "    'bands': ['B6', 'B5', 'B4'],\n",
    "    'min': 0,\n",
    "    'max': 6000,\n",
    "    'gamma': 1.4,\n",
    "}\n",
    "\n",
    "MAP = geemap.Map()"
   ]
  },
  {
   "cell_type": "code",
   "execution_count": 4,
   "metadata": {},
   "outputs": [],
   "source": [
    "def getImgForAoi(aoi, name):\n",
    "    collection = (\n",
    "        ee.ImageCollection('LANDSAT/LC08/C01/T1_SR')\n",
    "        .filterBounds(aoi.geometry())\n",
    "        .sort(\"CLOUD_COVER\")\n",
    "        .limit(1)\n",
    "    )\n",
    "    image = collection.first()\n",
    "    return image.set({\n",
    "        'aoi': aoi.geometry(),\n",
    "        'name': name\n",
    "    }).clip(aoi.geometry())"
   ]
  },
  {
   "cell_type": "code",
   "execution_count": 5,
   "metadata": {},
   "outputs": [],
   "source": [
    "def downloadImg(image):    \n",
    "    out_img = os.path.expanduser(f\"./landsat_{image.get('name')}.png\")\n",
    "    geemap.get_image_thumbnail(image, out_img, vis_params, dimensions=500, format='png')\n",
    "    geemap.show_image(out_img)"
   ]
  },
  {
   "cell_type": "code",
   "execution_count": 6,
   "metadata": {},
   "outputs": [],
   "source": [
    "aois = []\n",
    "bboxes = []\n",
    "images = []\n",
    "names_collection = []\n",
    "\n",
    "for l in csv_reader:\n",
    "    if l[0] == 'name':\n",
    "        continue\n",
    "\n",
    "    point_geom = ee.Geometry.Point([float(l[2]), float(l[1])])\n",
    "#     point_geom = ee.Geometry.Point([80.968294, 26.85694])\n",
    "    aois.append(point_geom)\n",
    "    \n",
    "    bbox = ee.Feature(point_geom.buffer(RADIUS).bounds())\n",
    "    bboxes.append(bbox)\n",
    "    \n",
    "    image = getImgForAoi(bbox, l[0])\n",
    "    images.append(image)\n",
    "    \n",
    "    names_collection.append(l[0])\n",
    "    \n",
    "aoi_collection = ee.FeatureCollection(aois)\n",
    "bboxes_collection = ee.FeatureCollection(bboxes)\n",
    "images_collection = ee.ImageCollection(images)"
   ]
  },
  {
   "cell_type": "code",
   "execution_count": 7,
   "metadata": {},
   "outputs": [
    {
     "data": {
      "application/vnd.jupyter.widget-view+json": {
       "model_id": "8a0ce7e67d7241149e9a27dce0bbc0bb",
       "version_major": 2,
       "version_minor": 0
      },
      "text/plain": [
       "Map(center=[20, 0], controls=(WidgetControl(options=['position', 'transparent_bg'], widget=HBox(children=(Togg…"
      ]
     },
     "metadata": {},
     "output_type": "display_data"
    }
   ],
   "source": [
    "MAP.addLayer(images_collection, VIS_PARAMS, \"LANDSAT 7\")\n",
    "MAP"
   ]
  },
  {
   "cell_type": "code",
   "execution_count": 8,
   "metadata": {},
   "outputs": [],
   "source": [
    "# image = image.clip(bboxes[0].geometry())\n",
    "# vis_params = {\n",
    "#     'bands': ['B6', 'B5', 'B4'],\n",
    "#     'min': 0,\n",
    "#     'max': 6000,\n",
    "#     'gamma': 1.4,\n",
    "# }\n",
    "\n",
    "# Map.addLayer(image, vis_params, \"LANDSAT 7\")\n",
    "# # Map.setCenter(80.968294, 26.85694, 14)\n",
    "# Map\n",
    "\n",
    "# out_img = os.path.expanduser(\"./landsat.png\")\n",
    "# geemap.get_image_thumbnail(image, out_img, vis_params, dimensions=500, format='png')\n",
    "# geemap.show_image(out_img)"
   ]
  },
  {
   "cell_type": "code",
   "execution_count": 9,
   "metadata": {},
   "outputs": [
    {
     "name": "stdout",
     "output_type": "stream",
     "text": [
      "Total number of images: 39\n",
      "\n",
      "Downloading 1/39: Baksar.jpg ...\n",
      "Downloading 2/39: Ballia.jpg ...\n",
      "Downloading 3/39: Bhitoura.jpg ...\n",
      "Downloading 4/39: Bithoor.jpg ...\n",
      "Downloading 5/39: Brijghat.jpg ...\n",
      "Downloading 6/39: Chaudanpur 1.jpg ...\n",
      "Downloading 7/39: Chunar.jpg ...\n",
      "Downloading 8/39: Dhanghat.jpg ...\n",
      "Downloading 9/39: Dohrighat 1.jpg ...\n",
      "Downloading 10/39: Dohrighat 2.jpg ...\n",
      "Downloading 11/39: Fatehpur Ganga.jpg ...\n",
      "Downloading 12/39: Gahmar.jpg ...\n",
      "Downloading 13/39: Gaurajainnagar.jpg ...\n",
      "Downloading 14/39: Gaurapurwar.jpg ...\n",
      "Downloading 15/39: Ghazipur.jpg ...\n",
      "Downloading 16/39: Gola Bazaar.jpg ...\n",
      "Downloading 17/39: Karenti Ghat.jpg ...\n",
      "Downloading 18/39: Lucknow.jpg ...\n",
      "Downloading 19/39: Mathura 1.jpg ...\n",
      "Downloading 20/39: Mathura 2.jpg ...\n",
      "Downloading 21/39: Mau.jpg ...\n",
      "Downloading 22/39: Mubarakpur.jpg ...\n",
      "Downloading 23/39: Noida.jpg ...\n",
      "Downloading 24/39: Patna.jpg ...\n",
      "Downloading 25/39: Pipra Brijlal.jpg ...\n",
      "Downloading 26/39: Prayagraj.jpg ...\n",
      "Downloading 27/39: Saidpur.jpg ...\n",
      "Downloading 28/39: Saraiya Kamarghatta.jpg ...\n",
      "Downloading 29/39: SringverpurDham.jpg ...\n",
      "Downloading 30/39: Tilak Vihar Crematorium, Delhi.jpg ...\n",
      "Downloading 31/39: Unchahar 1.jpg ...\n",
      "Downloading 32/39: Unchahar 2.jpg ...\n",
      "Downloading 33/39: Varanasi 2.jpg ...\n",
      "Downloading 34/39: Varanasi 3.jpg ...\n",
      "Downloading 35/39: Varanasi 4.jpg ...\n",
      "Downloading 36/39: Varanasi.jpg ...\n",
      "Downloading 37/39: Vrindavan 1.jpg ...\n",
      "Downloading 38/39: Vrindavan 2.jpg ...\n",
      "Downloading 39/39: Vrindavan 3.jpg ...\n"
     ]
    }
   ],
   "source": [
    "out_dir = os.path.expanduser(\".\")\n",
    "geemap.get_image_collection_thumbnails(\n",
    "    images_collection, out_dir, VIS_PARAMS, dimensions=500, format=\"jpg\",\n",
    "    names = names_collection\n",
    ")"
   ]
  }
 ],
 "metadata": {
  "anaconda-cloud": {},
  "kernelspec": {
   "display_name": "Python 3 (ipykernel)",
   "language": "python",
   "name": "python3"
  },
  "language_info": {
   "codemirror_mode": {
    "name": "ipython",
    "version": 3
   },
   "file_extension": ".py",
   "mimetype": "text/x-python",
   "name": "python",
   "nbconvert_exporter": "python",
   "pygments_lexer": "ipython3",
   "version": "3.10.6"
  }
 },
 "nbformat": 4,
 "nbformat_minor": 4
}
